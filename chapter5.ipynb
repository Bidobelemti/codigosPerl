{
 "cells": [
  {
   "cell_type": "code",
   "execution_count": 24,
   "id": "75bd7c2e",
   "metadata": {},
   "outputs": [],
   "source": [
    "use strict;\n",
    "use warnings;\n",
    "use Data::Dump qw(dump);\n",
    "use List::Util qw(zip sum);\n",
    "use sml; # Statistical Machine Learning Library\n",
    "use AI::MXNet qw(mx);"
   ]
  },
  {
   "cell_type": "code",
   "execution_count": 45,
   "id": "ace7583d",
   "metadata": {},
   "outputs": [
    {
     "data": {
      "text/plain": [
       "*sml::random_algorithm"
      ]
     },
     "execution_count": 45,
     "metadata": {},
     "output_type": "execute_result"
    },
    {
     "ename": "Warning",
     "evalue": "Subroutine sml::random_algorithm redefined at /usr/local/share/perl5/5.34/x86_64-linux-thread-multi/sml.pm line 16.\n",
     "output_type": "error",
     "traceback": [
      "Subroutine sml::random_algorithm redefined at /usr/local/share/perl5/5.34/x86_64-linux-thread-multi/sml.pm line 16.\n"
     ]
    }
   ],
   "source": [
    "my $random_algorithm = sub {\n",
    "    my ($self, $train, $test) = @_;\n",
    "\n",
    "    if (ref($train) eq 'AI::MXNet::NDArray' and ref($test) eq 'AI::MXNet::NDArray') {\n",
    "        \n",
    "        my $train_labels = $train->slice_axis(axis => 1, begin => $train->shape->[1] - 1, end => $train->shape->[1]);\n",
    "\n",
    "        my @labels = $train_labels->aspdl->list;\n",
    "\n",
    "        my %seen;\n",
    "        my @unique = grep { !$seen{$_}++ } @labels;\n",
    "\n",
    "        my $num_test_rows = $test->shape->[0];\n",
    "        my @rand_indices = map { int(rand(@unique)) } (1 .. $num_test_rows);\n",
    "        my @predicted_values = map { $unique[$_] } @rand_indices;\n",
    "\n",
    "        my $predictions = mx->nd->array(\\@predicted_values);\n",
    "        return $predictions;\n",
    "    }\n",
    "    else {\n",
    "\n",
    "        my @output_values = map { $_->[-1] } @$train;\n",
    "        my %seen;\n",
    "        my @unique = grep { !$seen{$_}++ } @output_values;\n",
    "\n",
    "        return [ map { $unique[int(rand(@unique))] } @$test ];\n",
    "    }\n",
    "};\n",
    "\n",
    "sml->add_to_class('random_algorithm', \\&$random_algorithm);"
   ]
  },
  {
   "cell_type": "code",
   "execution_count": 47,
   "id": "b89a66a6",
   "metadata": {},
   "outputs": [
    {
     "name": "stdout",
     "output_type": "stream",
     "text": [
      "[0 0 1 0][1]"
     ]
    },
    {
     "data": {
      "text/plain": [
       "1"
      ]
     },
     "execution_count": 47,
     "metadata": {},
     "output_type": "execute_result"
    }
   ],
   "source": [
    "mx->random->seed(1);\n",
    "\n",
    "my $train = mx->nd->array([[0], [1], [0], [1], [0], [1], [1]]);\n",
    "my $test  = mx->nd->array([[undef], [undef], [undef], [undef]]);\n",
    "\n",
    "my $predictions = sml->random_algorithm($train, $test);\n",
    "print $predictions->aspdl;  # Ejemplo esperado: 0 0 1 0\n",
    "\n",
    "print $train ->at(-1)->aspdl;"
   ]
  },
  {
   "cell_type": "code",
   "execution_count": 52,
   "id": "ce100d3f",
   "metadata": {},
   "outputs": [
    {
     "data": {
      "text/plain": [
       "*sml::zero_rule_algorithm_classification"
      ]
     },
     "execution_count": 52,
     "metadata": {},
     "output_type": "execute_result"
    },
    {
     "ename": "Warning",
     "evalue": "Subroutine sml::zero_rule_algorithm_classification redefined at /usr/local/share/perl5/5.34/x86_64-linux-thread-multi/sml.pm line 16.\n",
     "output_type": "error",
     "traceback": [
      "Subroutine sml::zero_rule_algorithm_classification redefined at /usr/local/share/perl5/5.34/x86_64-linux-thread-multi/sml.pm line 16.\n"
     ]
    }
   ],
   "source": [
    "my $zero_rule_algorithm_classification = sub {\n",
    "    my ($self, $train, $test) = @_;\n",
    "\n",
    "    if (ref($train) eq 'AI::MXNet::NDArray' and ref($test) eq 'AI::MXNet::NDArray') {\n",
    "\n",
    "        my $label_col = $train->slice_axis(axis => 1, begin => $train->shape->[1] - 1, end => $train->shape->[1]);\n",
    "\n",
    "        my @labels = $label_col->aspdl->list;\n",
    "\n",
    "        my %counter;\n",
    "        $counter{$_}++ for @labels;\n",
    "\n",
    "        my $prediction_value = (sort { $counter{$b} <=> $counter{$a} } keys %counter)[0];\n",
    "\n",
    "        my $num_test_rows = $test->shape->[0];\n",
    "        my $predictions = mx->nd->full([$num_test_rows], $prediction_value);\n",
    "\n",
    "        return $predictions;\n",
    "    }\n",
    "    else {\n",
    "\n",
    "        my @output_values = map { $_->[-1] } @$train;\n",
    "        my %counter = ();\n",
    "        map { $counter{$_}++ } @output_values; # Counts\n",
    "        my $prediction = (sort { $counter{$b} <=> $counter{$a} } keys %counter)[0]; # Find the most frequent\n",
    "        return [(($prediction) x scalar(@$test))]; # predictions\n",
    "    }\n",
    "};\n",
    "\n",
    "sml->add_to_class('zero_rule_algorithm_classification', \\&$zero_rule_algorithm_classification);"
   ]
  },
  {
   "cell_type": "code",
   "execution_count": 62,
   "id": "59a0444d",
   "metadata": {},
   "outputs": [
    {
     "name": "stdout",
     "output_type": "stream",
     "text": [
      "[0 0 0 0]"
     ]
    },
    {
     "data": {
      "text/plain": [
       "1"
      ]
     },
     "execution_count": 62,
     "metadata": {},
     "output_type": "execute_result"
    }
   ],
   "source": [
    "mx->random->seed(1);\n",
    "\n",
    "my $train = mx->nd->array([[0], [0], [0], [1], [0], [1], [1]]);\n",
    "my $test  = mx->nd->array([[undef], [undef], [undef], [undef]]);\n",
    "\n",
    "my $predictions = sml->zero_rule_algorithm_classification($train, $test);\n",
    "print $predictions->aspdl;  # Ejemplo esperado: 0 0 1 0\n"
   ]
  },
  {
   "cell_type": "code",
   "execution_count": 64,
   "id": "7219b657",
   "metadata": {},
   "outputs": [
    {
     "data": {
      "text/plain": [
       "*sml::zero_rule_algorithm_regression"
      ]
     },
     "execution_count": 64,
     "metadata": {},
     "output_type": "execute_result"
    }
   ],
   "source": [
    "my $zero_rule_algorithm_regression = sub {\n",
    "    my ($self, $train, $test) = @_;\n",
    "\n",
    "    if (ref $train eq 'AI::MXNet::NDArray' && ref $test eq 'AI::MXNet::NDArray') {\n",
    "        my $output_values_nd = $train->slice_axis(axis => 1, begin => $train->shape->[1] - 1, end => $train->shape->[1]);;\n",
    "        my $sum_nd = $output_values_nd->sum();\n",
    "        my $count = $output_values_nd->shape->[0];\n",
    "        my $average_nd = $sum_nd / $count;\n",
    "        my $prediction_value = $average_nd->asscalar();\n",
    "        return mx->nd->full([$test->shape->[0]], $prediction_value);\n",
    "    } elsif (ref $train eq 'ARRAY' && ref $test eq 'ARRAY') {\n",
    "        my @output_values = map { $_->[-1] } @$train;\n",
    "        my $sum_values = sum(@output_values);\n",
    "        my $average = $sum_values / scalar(@output_values);\n",
    "        my $prediction = sprintf '%.1f', $average;\n",
    "        return [(($prediction) x scalar(@$test))];\n",
    "    }\n",
    "};\n",
    "sml->add_to_class('zero_rule_algorithm_regression', \\&$zero_rule_algorithm_regression);"
   ]
  },
  {
   "cell_type": "code",
   "execution_count": 69,
   "id": "4284792d",
   "metadata": {},
   "outputs": [
    {
     "name": "stdout",
     "output_type": "stream",
     "text": [
      "[6 6 6 6]"
     ]
    },
    {
     "data": {
      "text/plain": [
       "1"
      ]
     },
     "execution_count": 69,
     "metadata": {},
     "output_type": "execute_result"
    }
   ],
   "source": [
    "my $train = mx->nd->array([[1, 2, 3],\n",
    " [4, 5, 6],\n",
    " [7, 8, 9]]);\n",
    "my $test  = mx->nd->array([[undef], [undef], [undef], [undef]]);\n",
    "\n",
    "my $predictions = sml->zero_rule_algorithm_regression($train, $test);\n",
    "print $predictions->aspdl;  # Ejemplo esperado: 0 0 1 0"
   ]
  },
  {
   "cell_type": "code",
   "execution_count": null,
   "id": "31a2bbbc",
   "metadata": {},
   "outputs": [],
   "source": []
  }
 ],
 "metadata": {
  "kernelspec": {
   "display_name": "IPerl 0.012",
   "language": "perl",
   "name": "iperl"
  },
  "language_info": {
   "file_extension": ".pl",
   "mimetype": "text/x-perl",
   "name": "perl",
   "version": "5.34.1"
  }
 },
 "nbformat": 4,
 "nbformat_minor": 5
}
