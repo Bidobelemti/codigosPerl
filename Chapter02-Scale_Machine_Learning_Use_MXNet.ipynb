{
 "cells": [
  {
   "cell_type": "markdown",
   "id": "c0525807",
   "metadata": {},
   "source": [
    "# Chapter 2: Scale Machine Learning Data\n",
    "\n",
    "Many machine learning algorithms expect data to be scaled consistently. There are two popular\n",
    "methods that you should consider when scaling your data for machine learning. In this tutorial,\n",
    "you will discover how you can rescale your data for machine learning. After reading this tutorial\n",
    "you will know:\n",
    "\n",
    "* How to normalize your data from scratch.\n",
    "* How to standardize your data from scratch.\n",
    "* When to normalize as opposed to standardize data.\n",
    "\n",
    "Let’s get started.\n",
    "\n",
    "## 2.1 Description\n",
    "\n",
    "Many machine learning algorithms expect the scale of the input and even the output data to be\n",
    "equivalent. It can help in methods that weight inputs in order to make a prediction, such as\n",
    "in linear regression and logistic regression. It is practically required in methods that combine\n",
    "weighted inputs in complex ways such as in artificial neural networks and deep learning.\n",
    "\n",
    "### 2.1.1 Pima Indians Diabetes Dataset\n",
    "In this tutorial we will use the Pima Indians Diabetes Dataset. This dataset involves the predic-\n",
    "tion of the onset of diabetes within 5 years. The baseline performance on the problem is approx-\n",
    "imately 65%. You can learn more about it in Appendix A, Section A.4. Download the dataset\n",
    "and save it into your current working directory with the filename pima-indians-diabetes.csv.\n",
    "\n",
    "## 2.2 Tutorial\n",
    "\n",
    "This tutorial is divided into 3 parts:\n",
    "1. Normalize Data.\n",
    "2. Standardize Data.\n",
    "3. When to Normalize and Standardize.\n",
    "\n",
    "These steps will provide the foundations you need to handle scaling your own data.\n",
    "\n",
    "### 2.2.1 Normalize Data\n",
    "\n",
    "Normalization can refer to different techniques depending on context. Here, we use normalization\n",
    "to refer to rescaling an input variable to the range between 0 and 1. Normalization requires\n",
    "that you know the minimum and maximum values for each attribute.\n",
    "This can be estimated from training data or specified directly if you have deep knowledge\n",
    "of the problem domain. You can easily estimate the minimum and maximum values for each\n",
    "attribute in a dataset by enumerating through the values. The snippet of code below defines\n",
    "the dataset minmax() function that calculates the min and max value for each attribute in a\n",
    "dataset, then returns an array of these minimum and maximum values."
   ]
  },
  {
   "cell_type": "code",
   "execution_count": 18,
   "id": "39665fc3",
   "metadata": {},
   "outputs": [],
   "source": [
    "# Load libraries\n",
    "use strict;\n",
    "use warnings;\n",
    "use Data::Dump qw(dump);\n",
    "use List::Util qw(zip min max sum);\n",
    "use sml;\n",
    "use AI::MXNet qw(nd);\n"
   ]
  },
  {
   "cell_type": "code",
   "execution_count": 20,
   "id": "7cdcb476",
   "metadata": {},
   "outputs": [
    {
     "data": {
      "text/plain": [
       "*sml::dataset_minmax2"
      ]
     },
     "execution_count": 20,
     "metadata": {},
     "output_type": "execute_result"
    }
   ],
   "source": [
    "# Function To Calculate the Min and Max Values For a Dataset.\n",
    "# Find the min and max values for each column\n",
    "use AI::MXNet qw(nd);\n",
    "sub dataset_minmax2{\n",
    "    my ($self, $dataset) = @_;\n",
    "    my $mx_data = mx->nd->array($dataset);\n",
    "    my $mins = $mx_data->min(axis => 0);\n",
    "    my $maxs = $mx_data->max(axis => 0);\n",
    "    return [$mins->asarray, $maxs->asarray];\n",
    "}\n",
    "sml->add_to_class('dataset_minmax2', \\&dataset_minmax2);"
   ]
  },
  {
   "cell_type": "markdown",
   "id": "ec52ab23",
   "metadata": {},
   "source": [
    "With this contrived dataset, we can test our function for calculating the min and max for\n",
    "each column."
   ]
  },
  {
   "cell_type": "code",
   "execution_count": 21,
   "id": "4256e45d",
   "metadata": {},
   "outputs": [
    {
     "name": "stdout",
     "output_type": "stream",
     "text": [
      "[[50, 30], [20, 90]]\n",
      "[[20, 30], [50, 90]]\n"
     ]
    },
    {
     "data": {
      "text/plain": [
       "1"
      ]
     },
     "execution_count": 21,
     "metadata": {},
     "output_type": "execute_result"
    }
   ],
   "source": [
    "# Contrive small dataset\n",
    "my $dataset = [[50, 30], [20, 90]];\n",
    "printf \"%s\\n\", dump $dataset;\n",
    "# Calculate min and max for each column\n",
    "my $minmax = sml->dataset_minmax2($dataset);\n",
    "printf \"%s\\n\", dump $minmax;\n",
    "# Output of Example Calculating the Min and Max Values.\n",
    "# [[50, 30], [20, 90]]\n",
    "# [[20, 50], [30, 90]]"
   ]
  },
  {
   "cell_type": "markdown",
   "id": "1ce56ad4",
   "metadata": {},
   "source": [
    "Once we have estimates of the maximum and minimum allowed values for each column, we\n",
    "can now normalize the raw data to the range 0 and 1. The calculation to normalize a single\n",
    "value for a column is:\n",
    "\n",
    "<center>$scaled\\ value = (value − min)\\ /\\ (max − min)$</center>  (2.1)\n",
    "\n",
    "Below is an implementation of this in a function called normalize dataset() that normalizes\n",
    "values in each column of a provided dataset."
   ]
  },
  {
   "cell_type": "code",
   "execution_count": 22,
   "id": "cfc98ba5",
   "metadata": {},
   "outputs": [
    {
     "data": {
      "text/plain": [
       "*sml::normalize_dataset2"
      ]
     },
     "execution_count": 22,
     "metadata": {},
     "output_type": "execute_result"
    }
   ],
   "source": [
    "# Function To Normalize a Dataset.\n",
    "# Rescale dataset columns to the range 0-1\n",
    "sub normalize_dataset2 {\n",
    "    my ($self, $dataset, $minmax) = @_;\n",
    "    my $mx_data = mx->nd->array($dataset);\n",
    "    my $mins = mx->nd->array($minmax->[0]);\n",
    "    my $ranges = mx->nd->array($minmax->[1]) - $mins;\n",
    "    \n",
    "    my $normalized = ($mx_data - $mins) / $ranges;\n",
    "    @$dataset = @{$normalized->asarray};\n",
    "}\n",
    "\n",
    "sml->add_to_class('normalize_dataset2', \\&normalize_dataset2);\n"
   ]
  },
  {
   "cell_type": "markdown",
   "id": "47c71596",
   "metadata": {},
   "source": [
    "We can tie this function together with the dataset minmax() function and normalize the\n",
    "contrived dataset."
   ]
  },
  {
   "cell_type": "code",
   "execution_count": 23,
   "id": "96654188",
   "metadata": {},
   "outputs": [
    {
     "name": "stdout",
     "output_type": "stream",
     "text": [
      "[[50, 30], [20, 90]]\n",
      "[[20, 30], [50, 90]]\n",
      "[[1, 0], [0, 1]]"
     ]
    },
    {
     "data": {
      "text/plain": [
       "1"
      ]
     },
     "execution_count": 23,
     "metadata": {},
     "output_type": "execute_result"
    }
   ],
   "source": [
    "# Contrive small dataset\n",
    "$dataset = [[50, 30], [20, 90]];\n",
    "print dump $dataset;\n",
    "\n",
    "$minmax = sml->dataset_minmax2($dataset);\n",
    "print \"\\n\", dump $minmax;\n",
    "\n",
    "sml->normalize_dataset2($dataset, $minmax);\n",
    "print \"\\n\", dump $dataset;\n",
    "\n",
    "\n",
    "# Example Output of Normalizing the Contrived Dataset.\n",
    "# [[50, 30], [20, 90]]\n",
    "# [[20, 50], [30, 90]]\n",
    "# [[1, 0], [0, 1]]"
   ]
  },
  {
   "cell_type": "markdown",
   "id": "2756ea85",
   "metadata": {},
   "source": [
    "We can combine this code with code for loading a CSV dataset and load and normalize the\n",
    "Pima Indians Diabetes dataset. The example first loads the dataset and converts the values for\n",
    "each column from string to floating point values. The minimum and maximum values for each\n",
    "column are estimated from the dataset, and finally, the values in the dataset are normalized."
   ]
  },
  {
   "cell_type": "code",
   "execution_count": 24,
   "id": "e4eb4719",
   "metadata": {},
   "outputs": [
    {
     "name": "stdout",
     "output_type": "stream",
     "text": [
      "Loaded data file data/pima-indians-diabetes.csv with 768 rows and 9 columns.\n",
      "[6 148 72 35 0 33.6 0.627 50 1]\n",
      "[6.0 148.0 72.0 35.0 0.0 33.6 0.6 50.0 1.0]\n",
      "[0.352941176470588 0.743718592964824 0.590163934426229 0.353535353535354 0 0.500745156482861 0.217391304347826 0.483333333333333 1]"
     ]
    },
    {
     "data": {
      "text/plain": [
       "1"
      ]
     },
     "execution_count": 24,
     "metadata": {},
     "output_type": "execute_result"
    }
   ],
   "source": [
    "# Load pima-indians-diabetes dataset\n",
    "my $filename = 'data/pima-indians-diabetes.csv';\n",
    "$dataset = sml->load_csv($filename);\n",
    "printf \"Loaded data file %s with %d rows and %d columns.\\n\", $filename, scalar @$dataset, scalar @{$dataset->[0]}; \n",
    "print \"[@{$dataset->[0]}]\";\n",
    "\n",
    "# convert string columns to float\n",
    "for my $i (0 .. $#{$dataset->[0]}) {\n",
    "    sml->str_column_to_float($dataset, $i);\n",
    "}\n",
    "\n",
    "print \"\\n[@{$dataset->[0]}]\";\n",
    "\n",
    "# Calculate min and max for each column\n",
    "$minmax = sml->dataset_minmax($dataset);\n",
    "sml->normalize_dataset($dataset, $minmax);\n",
    "print \"\\n[@{$dataset->[0]}]\";\n",
    "\n",
    "\n",
    "\n",
    "# Example Output of Normalizing the Diabetes Dataset.\n",
    "# Loaded data file pima-indians-diabetes.csv with 768 rows and 9 columns\n",
    "# [6.0, 148.0, 72.0, 35.0, 0.0, 33.6, 0.627, 50.0, 1.0]\n",
    "# [0.35294117647058826, 0.7437185929648241, 0.5901639344262295, 0.35353535353535354, 0.0,\n",
    "# 0.5007451564828614, 0.23441502988898377, 0.48333333333333334, 1.0]"
   ]
  },
  {
   "cell_type": "markdown",
   "id": "952b20b1",
   "metadata": {},
   "source": [
    "### 2.2.2 Standardize Data\n",
    "\n",
    "Standardization is a rescaling technique that refers to centering the distribution of the data on\n",
    "the value 0 and the standard deviation to the value 1. Together, the mean and the standard\n",
    "deviation can be used to summarize a normal distribution, also called the Gaussian distribution\n",
    "or bell curve.\n",
    "It requires that the mean and standard deviation of the values for each column be known\n",
    "prior to scaling. As with normalizing above, we can estimate these values from training data, or\n",
    "use domain knowledge to specify their values. Let’s start with creating functions to estimate\n",
    "the mean and standard deviation statistics for each column from a dataset. The mean describes\n",
    "the middle or central tendency for a collection of numbers. The mean for a column is calculated\n",
    "as the sum of all values for a column divided by the total number of values.<br><br>\n",
    "\n",
    "<center>$\\sum_{i=1}^n values_i / count(values)$</center> (2.2)\n",
    "\n",
    "The function below named column_means() calculates the mean values for each column in\n",
    "the dataset."
   ]
  },
  {
   "cell_type": "code",
   "execution_count": 25,
   "id": "c7f0e8f1",
   "metadata": {},
   "outputs": [
    {
     "data": {
      "text/plain": [
       "*sml::column_means2"
      ]
     },
     "execution_count": 25,
     "metadata": {},
     "output_type": "execute_result"
    }
   ],
   "source": [
    "# Function To Calculate Means For Each Column in a Dataset.\n",
    "# Calculate column means\n",
    "my $column_means2 = sub {\n",
    "    my ($self, $dataset) = @_;\n",
    "    my $mx_data = mx->nd->array($dataset);\n",
    "    return [$mx_data->mean(axis => 0)->asarray];\n",
    "};\n",
    "\n",
    "sml->add_to_class('column_means2', $column_means2);"
   ]
  },
  {
   "cell_type": "markdown",
   "id": "38578867",
   "metadata": {},
   "source": [
    "The standard deviation describes the average spread of values from the mean. It can be\n",
    "calculated as the square root of the sum of the squared difference between each value and the\n",
    "mean and dividing by the number of values minus 1.<br><br>\n",
    "\n",
    "<center>$ standard\\ deviation = \\sqrt{\\sum_{i=1}^n (values_i - mean)^2 / count(values) − 1}$</center> (2.3)\n",
    "\n",
    "The function below named column stdevs() calculates the standard deviation of values for\n",
    "each column in the dataset and assumes the means have already been calculated."
   ]
  },
  {
   "cell_type": "code",
   "execution_count": 26,
   "id": "a61de772",
   "metadata": {},
   "outputs": [
    {
     "data": {
      "text/plain": [
       "*sml::column_stdevs2"
      ]
     },
     "execution_count": 26,
     "metadata": {},
     "output_type": "execute_result"
    }
   ],
   "source": [
    "# Function To Calculate Standard Deviations For Each Column in a Dataset.\n",
    "# Calculate column standard deviations\n",
    "\n",
    "my $column_stdevs2 = sub {\n",
    "    my ($self, $dataset, $means) = @_;\n",
    "    my $mx_data = mx->nd->array($dataset);\n",
    "    my $mx_means = mx->nd->array($means);\n",
    "    \n",
    "    my $variance = ($mx_data - $mx_means)->square->mean(axis => 0);\n",
    "    return [$variance->sqrt->asarray];\n",
    "};\n",
    "\n",
    "sml->add_to_class('column_stdevs2', $column_stdevs2);"
   ]
  },
  {
   "cell_type": "markdown",
   "id": "f55f1fd0",
   "metadata": {},
   "source": [
    "Using the contrived dataset, we can estimate the summary statistics."
   ]
  },
  {
   "cell_type": "code",
   "execution_count": 27,
   "id": "5d1fb986",
   "metadata": {},
   "outputs": [
    {
     "name": "stdout",
     "output_type": "stream",
     "text": [
      "[[50, 30], [20, 90], [30, 50]]Medias: [[33.3333320617676, 56.6666679382324]]\n",
      "Desviaciones estándar: [[12.4721918106079, 24.9443836212158]]\n"
     ]
    },
    {
     "data": {
      "text/plain": [
       "1"
      ]
     },
     "execution_count": 27,
     "metadata": {},
     "output_type": "execute_result"
    }
   ],
   "source": [
    "# Standardize dataset\n",
    "my $dataset = [[50, 30], [20, 90], [30, 50]];\n",
    "print dump $dataset;\n",
    "\n",
    "# Cálculo de estadísticos\n",
    "my $means = sml->column_means2($dataset);\n",
    "my $stdevs = sml->column_stdevs2($dataset, $means);\n",
    "\n",
    "printf \"Medias: %s\\n\", dump $means;\n",
    "printf \"Desviaciones estándar: %s\\n\", dump $stdevs;\n",
    "\n",
    "\n",
    "# Example Output From Calculating Statistics from the Contrived Dataset.\n",
    "# [[50, 30], [20, 90], [30, 50]]\n",
    "# [33.333333333333336, 56.666666666666664]\n",
    "# [15.275252316519467, 30.550504633038933]"
   ]
  },
  {
   "cell_type": "markdown",
   "id": "b1e21765",
   "metadata": {},
   "source": [
    "Once the summary statistics are calculated, we can easily standardize the values in each\n",
    "column. The calculation to standardize a given value is as follows:<br><br>\n",
    "\n",
    "<center>$standardized\\_value_i = (value_i − mean)\\ /\\ stdev$</center>  (2.4)\n",
    "\n",
    "Below is a function named standardize dataset() that implements this equation"
   ]
  },
  {
   "cell_type": "code",
   "execution_count": 29,
   "id": "55f183f5",
   "metadata": {},
   "outputs": [
    {
     "data": {
      "text/plain": [
       "*sml::standardize_dataset2"
      ]
     },
     "execution_count": 29,
     "metadata": {},
     "output_type": "execute_result"
    }
   ],
   "source": [
    "# Function To Standardize a Dataset.\n",
    "# Standardize dataset\n",
    "sub standardize_dataset2{\n",
    "    my ($self, $dataset, $means, $stdevs) = @_;\n",
    "    my $mx_data = mx->nd->array($dataset);\n",
    "    my $mx_means = mx->nd->array($means);\n",
    "    my $mx_stdevs = mx->nd->array($stdevs);\n",
    "    \n",
    "    my $standardized = ($mx_data - $mx_means) / $mx_stdevs;\n",
    "    @$dataset = @{$standardized->asarray};\n",
    "}\n",
    "\n",
    "sml->add_to_class('standardize_dataset2', \\&{'standardize_dataset2'});\n"
   ]
  },
  {
   "cell_type": "markdown",
   "id": "49bb18e6",
   "metadata": {},
   "source": [
    "Combining this with the functions to estimate the mean and standard deviation summary\n",
    "statistics, we can standardize our contrived dataset."
   ]
  },
  {
   "cell_type": "code",
   "execution_count": 30,
   "id": "6c7978e1",
   "metadata": {},
   "outputs": [
    {
     "name": "stdout",
     "output_type": "stream",
     "text": [
      "[[33.3333320617676, 56.6666679382324]]\n",
      "[[12.4721918106079, 24.9443836212158]]\n",
      "[\n",
      "  [1.33630621433258, -1.06904494762421],\n",
      "  [-1.06904482841492, 1.33630609512329],\n",
      "  [-0.267261117696762, -0.267261296510696],\n",
      "]\n"
     ]
    },
    {
     "data": {
      "text/plain": [
       "1"
      ]
     },
     "execution_count": 30,
     "metadata": {},
     "output_type": "execute_result"
    }
   ],
   "source": [
    "printf \"%s\\n\", dump $means;\n",
    "printf \"%s\\n\", dump $stdevs;\n",
    "\n",
    "sml->standardize_dataset2($dataset, $means, $stdevs);\n",
    "printf \"%s\\n\", dump $dataset;\n",
    "\n",
    "# Example Output From Standardizing the Contrived Dataset.\n",
    "# [[1.0910894511799618, -0.8728715609439694], \n",
    "#  [-0.8728715609439697, 1.091089451179962],\n",
    "#  [-0.21821789023599253, -0.2182178902359923]]"
   ]
  },
  {
   "cell_type": "markdown",
   "id": "fb0cfc5a",
   "metadata": {},
   "source": [
    "Again, we can demonstrate the standardization of a machine learning dataset. The example\n",
    "below demonstrates how to load and standardize the Pima Indians diabetes dataset, assumed\n",
    "to be in the current working directory as in the previous normalization example."
   ]
  },
  {
   "cell_type": "code",
   "execution_count": 32,
   "id": "8b745fcd",
   "metadata": {},
   "outputs": [
    {
     "name": "stdout",
     "output_type": "stream",
     "text": [
      "Loaded data file data/pima-indians-diabetes.csv with 768 rows and 9 columns. \n",
      "[\"6.0\", \"148.0\", \"72.0\", \"35.0\", \"0.0\", 33.6, 0.6, \"50.0\", \"1.0\"]\n",
      "[\n",
      "  0.639947295188904,\n",
      "  0.84832364320755,\n",
      "  0.149640902876854,\n",
      "  0.907269954681396,\n",
      "  -0.692890584468842,\n",
      "  0.204012244939804,\n",
      "  0.38508066534996,\n",
      "  1.42599534988403,\n",
      "  1.36589586734772,\n",
      "]\n"
     ]
    },
    {
     "data": {
      "text/plain": [
       "1"
      ]
     },
     "execution_count": 32,
     "metadata": {},
     "output_type": "execute_result"
    }
   ],
   "source": [
    "# Load pima-indians-diabetes dataset\n",
    "$filename = 'data/pima-indians-diabetes.csv';\n",
    "$dataset = sml->load_csv($filename);\n",
    "printf \"Loaded data file %s with %d rows and %d columns. \\n\", $filename, scalar @$dataset, scalar @{$dataset->[0]};\n",
    "for my $i (0 .. $#{$dataset->[0]}){\n",
    "    sml->str_column_to_float($dataset, $i);\n",
    "}\n",
    "printf \"%s\\n\", dump $dataset->[0];\n",
    "\n",
    "$minmax = sml->dataset_minmax2($dataset);\n",
    "\n",
    "# 2. Normalizar el dataset al rango [0, 1]\n",
    "sml->normalize_dataset2($dataset, $minmax);\n",
    "\n",
    "# 3. Calcular media y desviación estándar para estandarización\n",
    "$means = sml->column_means2($dataset);\n",
    "$stdevs = sml->column_stdevs2($dataset, $means);\n",
    "\n",
    "# 4. Estandarizar el dataset (media=0, desviación=1)\n",
    "sml->standardize_dataset2($dataset, $means, $stdevs);\n",
    "\n",
    "# 5. Mostrar la primera fila procesada\n",
    "printf \"%s\\n\", dump $dataset->[0];\n",
    "\n",
    "# Example Output From Standardizing the Diabetes Dataset.\n",
    "# Loaded data file pima-indians-diabetes.csv with 768 rows and 9 columns\n",
    "# [6.0, 148.0, 72.0, 35.0, 0.0, 33.6, 0.627, 50.0, 1.0]\n",
    "# [0.6395304921176576, 0.8477713205896718, 0.14954329852954296, 0.9066790623472505,\n",
    "# -0.692439324724129, 0.2038799072674717, 0.468186870229798, 1.4250667195933604,\n",
    "# 1.3650063669598067]"
   ]
  },
  {
   "cell_type": "markdown",
   "id": "e36595b7",
   "metadata": {},
   "source": [
    "### 2.2.3 When to Normalize and Standardize\n",
    "\n",
    "Standardization is a scaling technique that assumes your data conforms to a normal distribution.\n",
    "If a given data attribute is normal or close to normal, this is probably the scaling method to use.\n",
    "It is good practice to record the summary statistics used in the standardization process so that\n",
    "you can apply them when standardizing data in the future that you may want to use with your\n",
    "model. Normalization is a scaling technique that does not assume any specific distribution.\n",
    "\n",
    "If your data is not normally distributed, consider normalizing it prior to applying your\n",
    "machine learning algorithm. It is good practice to record the minimum and maximum values\n",
    "for each column used in the normalization process, again, in case you need to normalize new\n",
    "data in the future to be used with your model.\n",
    "\n",
    "## 2.3 Extensions\n",
    "\n",
    "There are many other data transforms you could apply. The idea of data transforms is to best\n",
    "expose the structure of your problem in your data to the learning algorithm. It may not be\n",
    "clear what transforms are required upfront. A combination of trial and error and exploratory\n",
    "data analysis (plots and stats) can help tease out what may work. Below are some additional\n",
    "transforms you may want to consider researching and implementing:\n",
    "* Normalization that permits a configurable range, such as -1 to 1 and more.\n",
    "* Standardization that permits a configurable spread, such as 1, 2 or more standard deviations\n",
    "from the mean.\n",
    "* Exponential transforms such as logarithm, square root and exponents.\n",
    "* Power transforms such as Box-Cox for fixing the skew in normally distributed data.\n",
    "\n",
    "## 2.4 Review\n",
    "\n",
    "In this tutorial, you discovered how to rescale your data for machine learning from scratch.\n",
    "Specifically, you learned:\n",
    "* How to normalize data from scratch.\n",
    "* How to standardize data from scratch.\n",
    "* When to use normalization or standardization on your data."
   ]
  }
 ],
 "metadata": {
  "kernelspec": {
   "display_name": "IPerl 0.012",
   "language": "perl",
   "name": "iperl"
  },
  "language_info": {
   "file_extension": ".pl",
   "mimetype": "text/x-perl",
   "name": "perl",
   "version": "5.34.1"
  }
 },
 "nbformat": 4,
 "nbformat_minor": 5
}
