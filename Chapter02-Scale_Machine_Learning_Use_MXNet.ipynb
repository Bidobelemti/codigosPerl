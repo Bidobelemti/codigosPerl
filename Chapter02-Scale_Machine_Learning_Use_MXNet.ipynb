{
 "cells": [
  {
   "cell_type": "markdown",
   "id": "c0525807",
   "metadata": {},
   "source": [
    "# Chapter 2: Scale Machine Learning Data (Tensor Version)"
   ]
  },
  {
   "cell_type": "code",
   "execution_count": 1,
   "id": "39665fc3",
   "metadata": {},
   "outputs": [],
   "source": [
    "# Load libraries\n",
    "use strict;\n",
    "use warnings;\n",
    "use Data::Dump qw(dump);\n",
    "use List::Util qw(sum);\n",
    "use AI::MXNet qw(mx);\n",
    "use sml;"
   ]
  },
  {
   "cell_type": "code",
   "execution_count": 2,
   "id": "7cdcb476",
   "metadata": {},
   "outputs": [],
   "source": [
    "# Function To Calculate the Min and Max Values For a Dataset with tensor support\n",
    "sub dataset_minmax {\n",
    "    my ($self, $dataset) = @_;\n",
    "    \n",
    "    if (ref($dataset) eq 'AI::MXNet::NDArray') {\n",
    "        my $mins = $dataset->min(axis => 0);\n",
    "        my $maxs = $dataset->max(axis => 0);\n",
    "        return [$mins, $maxs];\n",
    "    } \n",
    "    elsif (ref($dataset) eq 'ARRAY') {\n",
    "        my @minmax;\n",
    "        for my $i (0 .. $#{$dataset->[0]}) {\n",
    "            my $col_values = [map {$_->[$i]} @$dataset];\n",
    "            my $value_min = min(@$col_values);\n",
    "            my $value_max = max(@$col_values);\n",
    "            push @minmax, [$value_min, $value_max];\n",
    "        }\n",
    "        return \\@minmax;\n",
    "    }\n",
    "}\n",
    "\n",
    "sml->add_to_class('dataset minmax', \\&dataset_minmax);"
   ]
  },
  {
   "cell_type": "code",
   "execution_count": 3,
   "id": "cfc98ba5",
   "metadata": {},
   "outputs": [],
   "source": [
    "# Function To Normalize a Dataset with tensor support\n",
    "sub normalize_dataset {\n",
    "    my ($self, $dataset, $minmax) = @_;\n",
    "    \n",
    "    if (ref($dataset) eq 'AI::MXNet::NDArray') {\n",
    "        my $mins = $minmax->[0];\n",
    "        my $ranges = $minmax->[1] - $mins;\n",
    "        return ($dataset - $mins) / $ranges;\n",
    "    } \n",
    "    elsif (ref($dataset) eq 'ARRAY') {\n",
    "        for my $row (@$dataset) {\n",
    "            for my $i (0 .. $#$row) {\n",
    "                $row->[$i] = ($row->[$i] - $minmax->[$i][0]) / ($minmax->[$i][1] - $minmax->[$i][0]);\n",
    "            }\n",
    "        }\n",
    "        return $dataset;\n",
    "    }\n",
    "}\n",
    "\n",
    "sml->add_to_class('normalize_dataset', \\&normalize_dataset);"
   ]
  },
  {
   "cell_type": "code",
   "execution_count": 4,
   "id": "c7f0e8f1",
   "metadata": {},
   "outputs": [],
   "source": [
    "# Function To Calculate Means For Each Column in a Dataset with tensor support\n",
    "my $column_means = sub {\n",
    "    my ($self, $dataset) = @_;\n",
    "    \n",
    "    if (ref($dataset) eq 'AI::MXNet::NDArray') {\n",
    "        return $dataset->mean(axis => 0);\n",
    "    }\n",
    "    elsif (ref($dataset) eq 'ARRAY') {\n",
    "        my $means = [0, map {$_} 0 .. $#{$dataset->[0]} -1];\n",
    "        for my $i (0 .. $#{$dataset->[0]}) {\n",
    "            my $col_values = [map {$_->[$i]} @$dataset];\n",
    "            $means->[$i] = sum(@$col_values) / scalar(@$dataset);\n",
    "        }\n",
    "        return $means;\n",
    "    }\n",
    "};\n",
    "\n",
    "sml->add_to_class('column_means', $column_means);"
   ]
  },
  {
   "cell_type": "code",
   "execution_count": 5,
   "id": "a61de772",
   "metadata": {},
   "outputs": [],
   "source": [
    "# Function To Calculate Standard Deviations For Each Column in a Dataset with tensor support\n",
    "my $column_stdevs = sub {\n",
    "    my ($self, $dataset, $means) = @_;\n",
    "    \n",
    "    if (ref($dataset) eq 'AI::MXNet::NDArray') {\n",
    "        my $variance = ($dataset - $means)->square->mean(axis => 0);\n",
    "        return $variance->sqrt;\n",
    "    }\n",
    "    elsif (ref($dataset) eq 'ARRAY') {\n",
    "        my $stdevs = [ (0) x @{$dataset->[0]} ];\n",
    "        for my $i (0 .. $#{$dataset->[0]}) {\n",
    "            my $variance = [map { ($_->[$i] - $means->[$i]) ** 2 } @$dataset];\n",
    "            $stdevs->[$i] = sqrt(sum(@$variance) / (scalar(@$dataset) - 1));\n",
    "        }\n",
    "        return $stdevs;\n",
    "    }\n",
    "};\n",
    "\n",
    "sml->add_to_class('column_stdevs', $column_stdevs);"
   ]
  },
  {
   "cell_type": "code",
   "execution_count": 6,
   "id": "55f183f5",
   "metadata": {},
   "outputs": [],
   "source": [
    "# Function To Standardize a Dataset with tensor support\n",
    "sub standardize_dataset {\n",
    "    my ($self, $dataset, $means, $stdevs) = @_;\n",
    "    \n",
    "    if (ref($dataset) eq 'AI::MXNet::NDArray') {\n",
    "        return ($dataset - $means) / $stdevs;\n",
    "    }\n",
    "    elsif (ref($dataset) eq 'ARRAY') {\n",
    "        for my $row (@$dataset) {\n",
    "            for my $i (0 .. $#{$row}) {\n",
    "                $row->[$i] = ($row->[$i] - $means->[$i]) / $stdevs->[$i];\n",
    "            }\n",
    "        }\n",
    "        return $dataset;\n",
    "    }\n",
    "}\n",
    "\n",
    "sml->add_to_class('standardize_dataset', \\&standardize_dataset);"
   ]
  },
  {
   "cell_type": "code",
   "execution_count": 7,
   "id": "4256e45d",
   "metadata": {},
   "outputs": [
    {
     "name": "stdout",
     "output_type": "stream",
     "text": [
      "[[50, 30], [20, 90]]\n",
      "[[20, 50], [30, 90]]\n"
     ]
    },
    {
     "data": {
      "text/plain": [
       "1"
      ]
     },
     "execution_count": 7,
     "metadata": {},
     "output_type": "execute_result"
    }
   ],
   "source": [
    "# Test with array input\n",
    "my $dataset = [[50, 30], [20, 90]];\n",
    "printf \"%s\\n\", dump $dataset;\n",
    "my $minmax = sml->dataset_minmax($dataset);\n",
    "printf \"%s\\n\", dump $minmax;"
   ]
  },
  {
   "cell_type": "code",
   "execution_count": 8,
   "id": "96654188",
   "metadata": {},
   "outputs": [
    {
     "name": "stdout",
     "output_type": "stream",
     "text": [
      "[[50, 30], [20, 90]]\n",
      "[[20, 50], [30, 90]]\n",
      "[[1, 0], [0, 1]]"
     ]
    },
    {
     "data": {
      "text/plain": [
       "1"
      ]
     },
     "execution_count": 8,
     "metadata": {},
     "output_type": "execute_result"
    }
   ],
   "source": [
    "# Test normalization with array input\n",
    "$dataset = [[50, 30], [20, 90]];\n",
    "print dump $dataset;\n",
    "$minmax = sml->dataset_minmax($dataset);\n",
    "print \"\\n\", dump $minmax;\n",
    "sml->normalize_dataset($dataset, $minmax);\n",
    "print \"\\n\", dump $dataset;"
   ]
  },
  {
   "cell_type": "code",
   "execution_count": 9,
   "id": "5d1fb986",
   "metadata": {},
   "outputs": [
    {
     "name": "stdout",
     "output_type": "stream",
     "text": [
      "[[50, 30], [20, 90], [30, 50]]Medias: [33.3333333333333, 56.6666666666667]\n",
      "Desviaciones estándar: [15.2752523165195, 30.5505046330389]\n"
     ]
    },
    {
     "data": {
      "text/plain": [
       "1"
      ]
     },
     "execution_count": 9,
     "metadata": {},
     "output_type": "execute_result"
    }
   ],
   "source": [
    "# Test statistics with array input\n",
    "$dataset = [[50, 30], [20, 90], [30, 50]];\n",
    "print dump $dataset;\n",
    "my $means = sml->column_means($dataset);\n",
    "my $stdevs = sml->column_stdevs($dataset, $means);\n",
    "printf \"Medias: %s\\n\", dump $means;\n",
    "printf \"Desviaciones estándar: %s\\n\", dump $stdevs;"
   ]
  },
  {
   "cell_type": "code",
   "execution_count": 10,
   "id": "6c7978e1",
   "metadata": {},
   "outputs": [
    {
     "name": "stdout",
     "output_type": "stream",
     "text": [
      "[33.3333333333333, 56.6666666666667]\n",
      "[15.2752523165195, 30.5505046330389]\n",
      "[\n",
      "  [1.09108945117996, -0.872871560943969],\n",
      "  [-0.87287156094397, 1.09108945117996],\n",
      "  [-0.218217890235993, -0.218217890235992],\n",
      "]\n"
     ]
    },
    {
     "data": {
      "text/plain": [
       "1"
      ]
     },
     "execution_count": 10,
     "metadata": {},
     "output_type": "execute_result"
    }
   ],
   "source": [
    "# Test standardization with array input\n",
    "printf \"%s\\n\", dump $means;\n",
    "printf \"%s\\n\", dump $stdevs;\n",
    "sml->standardize_dataset($dataset, $means, $stdevs);\n",
    "printf \"%s\\n\", dump $dataset;"
   ]
  },
  {
   "cell_type": "code",
   "execution_count": 11,
   "id": "e4eb4719",
   "metadata": {},
   "outputs": [
    {
     "name": "stdout",
     "output_type": "stream",
     "text": [
      "Loaded data file data/pima-indians-diabetes.csv with 768 rows and 9 columns.\n",
      "[6 148 72 35 0 33.6 0.627 50 1]\n",
      "[6.0 148.0 72.0 35.0 0.0 33.6 0.6 50.0 1.0]\n",
      "[0.352941176470588 0.743718592964824 0.590163934426229 0.353535353535354 0 0.500745156482861 0.217391304347826 0.483333333333333 1]"
     ]
    },
    {
     "data": {
      "text/plain": [
       "1"
      ]
     },
     "execution_count": 11,
     "metadata": {},
     "output_type": "execute_result"
    }
   ],
   "source": [
    "# Test with Pima Indians dataset (array input)\n",
    "my $filename = 'data/pima-indians-diabetes.csv';\n",
    "$dataset = sml->load_csv($filename);\n",
    "printf \"Loaded data file %s with %d rows and %d columns.\\n\", $filename, scalar @$dataset, scalar @{$dataset->[0]};\n",
    "print \"[@{$dataset->[0]}]\";\n",
    "\n",
    "for my $i (0 .. $#{$dataset->[0]}) {\n",
    "    sml->str_column_to_float($dataset, $i);\n",
    "}\n",
    "\n",
    "print \"\\n[@{$dataset->[0]}]\";\n",
    "\n",
    "$minmax = sml->dataset_minmax($dataset);\n",
    "sml->normalize_dataset($dataset, $minmax);\n",
    "print \"\\n[@{$dataset->[0]}]\";"
   ]
  },
  {
   "cell_type": "code",
   "execution_count": 12,
   "id": "8b745fcd",
   "metadata": {},
   "outputs": [
    {
     "name": "stdout",
     "output_type": "stream",
     "text": [
      "Loaded data file data/pima-indians-diabetes.csv with 768 rows and 9 columns. \n",
      "[\"6.0\", \"148.0\", \"72.0\", \"35.0\", \"0.0\", 33.6, 0.6, \"50.0\", \"1.0\"]\n",
      "[\n",
      "  0.639530492117648,\n",
      "  0.847771320589669,\n",
      "  0.149543298529545,\n",
      "  0.906679062347249,\n",
      "  -0.69243932472413,\n",
      "  0.203879907267472,\n",
      "  0.384829971238835,\n",
      "  1.42506671959336,\n",
      "  1.36500636695981,\n",
      "]\n"
     ]
    },
    {
     "data": {
      "text/plain": [
       "1"
      ]
     },
     "execution_count": 12,
     "metadata": {},
     "output_type": "execute_result"
    }
   ],
   "source": [
    "# Test standardization with Pima Indians dataset\n",
    "$filename = 'data/pima-indians-diabetes.csv';\n",
    "$dataset = sml->load_csv($filename);\n",
    "printf \"Loaded data file %s with %d rows and %d columns. \\n\", $filename, scalar @$dataset, scalar @{$dataset->[0]};\n",
    "for my $i (0 .. $#{$dataset->[0]}) {\n",
    "    sml->str_column_to_float($dataset, $i);\n",
    "}\n",
    "printf \"%s\\n\", dump $dataset->[0];\n",
    "\n",
    "$minmax = sml->dataset_minmax($dataset);\n",
    "sml->normalize_dataset($dataset, $minmax);\n",
    "$means = sml->column_means($dataset);\n",
    "$stdevs = sml->column_stdevs($dataset, $means);\n",
    "sml->standardize_dataset($dataset, $means, $stdevs);\n",
    "printf \"%s\\n\", dump $dataset->[0];"
   ]
  },
  {
   "cell_type": "code",
   "execution_count": 13,
   "id": "test-tensor",
   "metadata": {},
   "outputs": [
    {
     "name": "stdout",
     "output_type": "stream",
     "text": [
      "\n",
      "[[50. 30.]\n",
      " [20. 90.]\n",
      " [30. 50.]]\n",
      "<NDArray 3x2 @cpu(0)>\n",
      "Medias: \n",
      "[33.333332 56.666668]\n",
      "<NDArray 2 @cpu(0)>\n",
      "Desviaciones estándar: \n",
      "[15.275252 30.550505]\n",
      "<NDArray 2 @cpu(0)>\n",
      "Standardized: \n",
      "[[ 1.0910895 -0.8728716]\n",
      " [-0.8728716  1.0910895]\n",
      " [-0.2182179 -0.2182179]]\n",
      "<NDArray 3x2 @cpu(0)>\n"
     ]
    },
    {
     "data": {
      "text/plain": [
       "1"
      ]
     },
     "execution_count": 13,
     "metadata": {},
     "output_type": "execute_result"
    }
   ],
   "source": [
    "# Test with tensor input\n",
    "my $mx_dataset = mx->nd->array([[50, 30], [20, 90], [30, 50]]);\n",
    "print \"\\n\", $mx_dataset->aspdl;\n",
    "\n",
    "my $mx_means = sml->column_means($mx_dataset);\n",
    "print \"Medias: \\n\", $mx_means->aspdl;\n",
    "\n",
    "my $mx_stdevs = sml->column_stdevs($mx_dataset, $mx_means);\n",
    "print \"Desviaciones estándar: \\n\", $mx_stdevs->aspdl;\n",
    "\n",
    "my $standardized = sml->standardize_dataset($mx_dataset, $mx_means, $mx_stdevs);\n",
    "print \"Standardized: \\n\", $standardized->aspdl;"
   ]
  }
 ],
 "metadata": {
  "kernelspec": {
   "display_name": "IPerl 0.011",
   "language": "perl",
   "name": "iperl"
  },
  "language_info": {
   "file_extension": ".pl",
   "mimetype": "text/x-perl",
   "name": "perl",
   "version": "5.32.1"
  }
 },
 "nbformat": 4,
 "nbformat_minor": 5
}