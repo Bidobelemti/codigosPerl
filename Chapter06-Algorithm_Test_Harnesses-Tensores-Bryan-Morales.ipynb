{
 "cells": [
  {
   "cell_type": "markdown",
   "id": "4dd0f1de",
   "metadata": {},
   "source": [
    "# Chapter 6: Algorithm Test Harnesses"
   ]
  },
  {
   "cell_type": "markdown",
   "id": "f31de163",
   "metadata": {},
   "source": [
    "### Nombre: Bryan Morales"
   ]
  },
  {
   "cell_type": "code",
   "execution_count": null,
   "id": "e4d57254",
   "metadata": {},
   "outputs": [],
   "source": [
    "use strict;\n",
    "use warnings;\n",
    "use Data::Dump qw(dump);\n",
    "use List::Util qw(zip min max sum shuffle); \n",
    "use sml;\n",
    "use AI::MXNet qw(mx);"
   ]
  },
  {
   "cell_type": "code",
   "execution_count": null,
   "id": "evaluate_algorithm_train_test_split",
   "metadata": {},
   "outputs": [
    {
     "data": {
      "text/plain": [
       "*sml::evaluate_algorithm_train_test_split"
      ]
     },
     "execution_count": 4,
     "metadata": {},
     "output_type": "execute_result"
    }
   ],
   "source": [
    "sub evaluate_algorithm_train_test_split {\n",
    "    my ($self, $dataset, $algorithm, %args) = ((splice @_, 0, 3), split =>0.6, metric => undef, @_);\n",
    "    my ($train, $test) = train_test_split($dataset, split => $args{split});\n",
    "    my $train_x = $train->slice_axis(axis => 1, begin => 0, end => $train->shape->[1] - 1);\n",
    "    my $train_y = $train->slice_axis(axis => 1, begin => $train->shape->[1] - 1, end => $train->shape->[1]);\n",
    "\n",
    "    my $test_x  = $test->slice_axis(axis => 1, begin => 0, end => $test->shape->[1] - 1);\n",
    "    my $test_y  = $test->slice_axis(axis => 1, begin => $test->shape->[1] - 1, end => $test->shape->[1]);\n",
    "\n",
    "    my $predicted = $algorithm->('sml', $train, $test_x, @_);\n",
    "\n",
    "    my $actual    = $test_y->reshape([$test_y->shape->[0]]);  \n",
    "    my $score;\n",
    "    if (defined $args{metric}) {\n",
    "        if ($args{metric} =~ /accuracy/i) {\n",
    "            $score = sml->accuracy_metric($actual, $predicted);\n",
    "        } elsif ($args{metric} =~ /rmse/i) {\n",
    "            $score = sml->rmse_metric($actual, $predicted);\n",
    "        }\n",
    "    } else {\n",
    "        $score = (grep { $_ =~ /\\d+\\.\\d+/ } @$actual)\n",
    "               ? sml->rmse_metric($actual, $predicted)\n",
    "               : sml->accuracy_metric($actual, $predicted);\n",
    "    }\n",
    "\n",
    "    return wantarray ? ($score, $train, $test, $actual, $predicted) : $score;\n",
    "}\n",
    "\n",
    "sml->add_to_class('evaluate_algorithm_train_test_split', \\&evaluate_algorithm_train_test_split);"
   ]
  },
  {
   "cell_type": "code",
   "execution_count": null,
   "id": "train_test_harness_example",
   "metadata": {},
   "outputs": [
    {
     "name": "stdout",
     "output_type": "stream",
     "text": [
      "Accuracy: 0.6558441558441559\n"
     ]
    },
    {
     "data": {
      "text/plain": [
       "1"
      ]
     },
     "execution_count": 5,
     "metadata": {},
     "output_type": "execute_result"
    }
   ],
   "source": [
    "mx->random->seed(1);\n",
    "my $filename = '../data/pima-indians-diabetes.csv';\n",
    "\n",
    "my $dataset = sml->load_csv($filename);\n",
    "for my $i (0 .. $#{$dataset->[0]} - 1) {\n",
    "    sml->str_column_to_float($dataset, $i);\n",
    "}\n",
    "\n",
    "$dataset = mx->nd->array($dataset);\n",
    "\n",
    "my $split = 0.6;\n",
    "my ($accuracy, $train, $test, $actual, $predicted) =\n",
    "    sml->evaluate_algorithm_train_test_split($dataset,\n",
    "                                            \\&sml::zero_rule_algorithm_classification,\n",
    "                                            split => $split,\n",
    "                                            metric => 'accuracy');\n",
    "print \"Accuracy: $accuracy\\n\";"
   ]
  },
  {
   "cell_type": "code",
   "execution_count": 6,
   "id": "confusion_matrix_example",
   "metadata": {},
   "outputs": [
    {
     "name": "stdout",
     "output_type": "stream",
     "text": [
      "A/P 0 1\n",
      "0 202 0\n",
      "1 106 0\n"
     ]
    },
    {
     "data": {
      "text/plain": [
       "1"
      ]
     },
     "execution_count": 6,
     "metadata": {},
     "output_type": "execute_result"
    }
   ],
   "source": [
    "my ($unique, $matrix) = sml->confusion_matrix($actual, $predicted);\n",
    "sml->print_confusion_matrix($unique, $matrix);"
   ]
  },
  {
   "cell_type": "code",
   "execution_count": null,
   "id": "evaluate_algorithm_cross_validation_split",
   "metadata": {},
   "outputs": [
    {
     "data": {
      "text/plain": [
       "*sml::evaluate_algorithm_cross_validation_split"
      ]
     },
     "execution_count": 8,
     "metadata": {},
     "output_type": "execute_result"
    }
   ],
   "source": [
    "sub evaluate_algorithm_cross_validation_split {\n",
    "    my ($self, $dataset, $algorithm, %args) = @_; \n",
    "    $args{n_folds} //= 10;\n",
    "    $args{metric}  //= undef;\n",
    "\n",
    "    my @scores;\n",
    "    my @train_losses;\n",
    "    my @test_losses;\n",
    "    my @actuals_per_fold;\n",
    "    my @predictions_per_fold;\n",
    "\n",
    "    my $folds_ref = $self->cross_validation_split($dataset, n_folds => $args{n_folds});\n",
    "    my @folds = @$folds_ref;\n",
    "\n",
    "    my $is_mxnet_ndarray = (ref $dataset eq 'AI::MXNet::NDArray');\n",
    "\n",
    "    for my $i (0 .. $#folds) {\n",
    "        my $test_fold = $folds[$i];\n",
    "        my @train_folds_list;\n",
    "        for my $j (0 .. $#folds) {\n",
    "            push @train_folds_list, $folds[$j] unless $j == $i;\n",
    "        }\n",
    "\n",
    "        my ($train_set, $test_set_for_algo, $actual_fold_labels);\n",
    "\n",
    "        if ($is_mxnet_ndarray) {\n",
    "            $train_set = @train_folds_list ? mx->nd->concat(@train_folds_list, dim => 0) : mx->nd->array([]);\n",
    "\n",
    "            $actual_fold_labels = $test_fold->at(all(), -1)->reshape([$test_fold->shape->[0]]);\n",
    "            $test_set_for_algo = $test_fold; \n",
    "\n",
    "        } else { \n",
    "            $train_set = [];\n",
    "            foreach my $fold_ref (@train_folds_list) {\n",
    "                push @$train_set, @$fold_ref;\n",
    "            }\n",
    "\n",
    "            $actual_fold_labels = [map { $_->[-1] } @$test_fold];\n",
    "\n",
    "            $test_set_for_algo = [];\n",
    "            for my $row (@$test_fold) {\n",
    "                my @row_copy = @$row;\n",
    "                push @$test_set_for_algo, [@row_copy];\n",
    "                $row_copy[-1] = undef;\n",
    "            }\n",
    "        }\n",
    "\n",
    "        my ($predicted_fold, $current_train_loss, $current_test_loss) =\n",
    "            $algorithm->('sml', $train_set, $test_set_for_algo, %args);\n",
    "\n",
    "        my @actual_perl;\n",
    "        if ($is_mxnet_ndarray) {\n",
    "             for my $idx (0 .. $actual_fold_labels->shape->[0] - 1) {\n",
    "                 push @actual_perl, $actual_fold_labels->at($idx)->asscalar();\n",
    "             }\n",
    "        } else {\n",
    "             @actual_perl = @$actual_fold_labels;\n",
    "        }\n",
    "\n",
    "        my @predicted_perl;\n",
    "        if ($is_mxnet_ndarray) {\n",
    "            for my $idx (0 .. $predicted_fold->shape->[0] - 1) {\n",
    "                my $val = $predicted_fold->at($idx)->asscalar();\n",
    "                if ($args{metric} && $args{metric} =~ /rmse/i || !defined $args{metric} && (grep { $_ =~ /\\d+\\.\\d+/ } @actual_perl)) {\n",
    "                    push @predicted_perl, sprintf '%.1f', $val;\n",
    "                } else {\n",
    "                    push @predicted_perl, $val;\n",
    "                }\n",
    "            }\n",
    "        } else {\n",
    "            @predicted_perl = @$predicted_fold;\n",
    "        }\n",
    "\n",
    "        my $score;\n",
    "        if (defined $args{metric}) {\n",
    "            if ($args{metric} =~ /accuracy/i) {\n",
    "                $score = sml->accuracy_metric(\\@actual_perl, \\@predicted_perl);\n",
    "            } elsif ($args{metric} =~ /rmse/i) {\n",
    "                $score = sml->rmse_metric(\\@actual_perl, \\@predicted_perl);\n",
    "            }\n",
    "        } else {\n",
    "            $score = (grep { $_ =~ /\\d+\\.\\d+/ } @actual_perl)\n",
    "                   ? sml->rmse_metric(\\@actual_perl, \\@predicted_perl)\n",
    "                   : sml->accuracy_metric(\\@actual_perl, \\@predicted_perl);\n",
    "        }\n",
    "\n",
    "        push @scores, $score;\n",
    "        push @train_losses, $current_train_loss;\n",
    "        push @test_losses, $current_test_loss;\n",
    "        push @actuals_per_fold, \\@actual_perl;\n",
    "        push @predictions_per_fold, \\@predicted_perl;\n",
    "    }\n",
    "\n",
    "    return wantarray ? (\\@scores, \\@train_losses, \\@test_losses, \\@actuals_per_fold, \\@predictions_per_fold) : \\@scores;\n",
    "}\n",
    "\n",
    "sml->add_to_class('evaluate_algorithm_cross_validation_split', \\&evaluate_algorithm_cross_validation_split);"
   ]
  },
  {
   "cell_type": "code",
   "execution_count": null,
   "id": "cross_validation_harness_example",
   "metadata": {},
   "outputs": [
    {
     "name": "stdout",
     "output_type": "stream",
     "text": [
      "Fold 0: Working with MXNet NDArray.\n",
      "Fold 1: Working with MXNet NDArray.\n",
      "Fold 2: Working with MXNet NDArray.\n",
      "Fold 3: Working with MXNet NDArray.\n",
      "Fold 4: Working with MXNet NDArray.\n",
      "Scores: 0.6274509803921569 0.6862745098039216 0.6274509803921569 0.6797385620915033 0.6339869281045752\n",
      "Mean Accuracy: 0.65\n"
     ]
    },
    {
     "data": {
      "text/plain": [
       "1"
      ]
     },
     "execution_count": 9,
     "metadata": {},
     "output_type": "execute_result"
    }
   ],
   "source": [
    "mx->random->seed(1);\n",
    "$filename = '../data/pima-indians-diabetes.csv';\n",
    "$dataset = sml->load_csv($filename);\n",
    "$dataset = mx->nd->array($dataset);\n",
    "\n",
    "my $n_fold = 5; #\n",
    "my ($scores, $train_losses, $test_losses, $actuals, $predictions) = sml->evaluate_algorithm_cross_validation_split(\n",
    "    $dataset,\n",
    "    \\&sml::zero_rule_algorithm_classification,\n",
    "    n_folds => $n_fold,\n",
    "    metric  => 'accuracy');\n",
    "\n",
    "printf \"Scores: %s\\n\", join(' ', @$scores); #\n",
    "printf \"Mean Accuracy: %0.2f\\n\", sum(@$scores) / scalar(@$scores); #\n"
   ]
  },
  {
   "cell_type": "code",
   "execution_count": null,
   "id": "additional_metrics_example",
   "metadata": {},
   "outputs": [
    {
     "name": "stdout",
     "output_type": "stream",
     "text": [
      "Accuracy: 62.75%\n",
      "A/P 0 1\n",
      "0 96 0\n",
      "1 57 0\n",
      "Accuracy: 68.63%\n",
      "A/P 0 1\n",
      "0 105 0\n",
      "1 48 0\n",
      "Accuracy: 62.75%\n",
      "A/P 0 1\n",
      "0 96 0\n",
      "1 57 0\n",
      "Accuracy: 67.97%\n",
      "A/P 0 1\n",
      "0 104 0\n",
      "1 49 0\n",
      "Accuracy: 63.40%\n",
      "A/P 0 1\n",
      "0 97 0\n",
      "1 56 0\n"
     ]
    },
    {
     "data": {
      "text/plain": [
       "1"
      ]
     },
     "execution_count": 10,
     "metadata": {},
     "output_type": "execute_result"
    }
   ],
   "source": [
    "for my $item (zip @$scores, @$actuals, @$predictions) {\n",
    "    my ($accuracy, $actual_fold, $predicted_fold) = @$item;\n",
    "    my ($unique, $matrix) = sml->confusion_matrix($actual_fold, $predicted_fold);\n",
    "    printf \"Accuracy: %0.2f%%\\n\", $accuracy * 100; \n",
    "    sml->print_confusion_matrix($unique, $matrix); \n",
    "}\n"
   ]
  }
 ],
 "metadata": {
  "kernelspec": {
   "display_name": "IPerl 0.012",
   "language": "perl",
   "name": "iperl"
  },
  "language_info": {
   "file_extension": ".pl",
   "mimetype": "text/x-perl",
   "name": "perl",
   "version": "5.34.1"
  }
 },
 "nbformat": 4,
 "nbformat_minor": 5
}
