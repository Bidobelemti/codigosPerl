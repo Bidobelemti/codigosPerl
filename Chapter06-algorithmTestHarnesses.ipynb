{
 "cells": [
  {
   "cell_type": "code",
   "execution_count": 1,
   "id": "e4d57254",
   "metadata": {},
   "outputs": [],
   "source": [
    "use strict;\n",
    "use warnings;\n",
    "use Data::Dump qw(dump);\n",
    "use List::Util qw(zip min max sum);\n",
    "use sml;\n",
    "use AI::MXNet qw(mx);"
   ]
  },
  {
   "cell_type": "code",
   "execution_count": 2,
   "id": "05dd2c22",
   "metadata": {},
   "outputs": [
    {
     "data": {
      "text/plain": [
       "*sml::evaluate_algorithm_train_test_split"
      ]
     },
     "execution_count": 2,
     "metadata": {},
     "output_type": "execute_result"
    }
   ],
   "source": [
    "sub evaluate_algorithm_train_test_split {\n",
    "    my ($self, $dataset, $algorithm, %args) = ((splice @_, 0, 3), split =>0.6, metric => undef, @_);\n",
    "    my ($train, $test) = train_test_split($dataset, split => $args{split});\n",
    "    my $train_x = $train->slice_axis(axis => 1, begin => 0, end => $train->shape->[1] - 1);\n",
    "    my $train_y = $train->slice_axis(axis => 1, begin => $train->shape->[1] - 1, end => $train->shape->[1]);\n",
    "\n",
    "    my $test_x  = $test->slice_axis(axis => 1, begin => 0, end => $test->shape->[1] - 1);\n",
    "    my $test_y  = $test->slice_axis(axis => 1, begin => $test->shape->[1] - 1, end => $test->shape->[1]);\n",
    "\n",
    "    my $predicted = $algorithm->('sml', $train, $test_x, @_);\n",
    "\n",
    "    my $actual    = $test_y->reshape([$test_y->shape->[0]]);  \n",
    "    my $score;\n",
    "    if (defined $args{metric}) {\n",
    "        if ($args{metric} =~ /accuracy/i) {\n",
    "            $score = sml->accuracy_metric($actual, $predicted);\n",
    "        } elsif ($args{metric} =~ /rmse/i) {\n",
    "            $score = sml->rmse_metric($actual, $predicted);\n",
    "        }\n",
    "    } else {\n",
    "        # Heurística: si los valores reales parecen flotantes, usar RMSE\n",
    "        $score = (grep { $_ =~ /\\d+\\.\\d+/ } @$actual)\n",
    "               ? sml->rmse_metric($actual, $predicted)\n",
    "               : sml->accuracy_metric($actual, $predicted);\n",
    "    }\n",
    "\n",
    "    return wantarray ? ($score, $train, $test, $actual, $predicted) : $score;\n",
    "}\n",
    "\n",
    "sml->add_to_class('evaluate_algorithm_train_test_split', \\&evaluate_algorithm_train_test_split);"
   ]
  },
  {
   "cell_type": "code",
   "execution_count": 3,
   "id": "44f41079",
   "metadata": {},
   "outputs": [
    {
     "name": "stdout",
     "output_type": "stream",
     "text": [
      "66.56"
     ]
    },
    {
     "data": {
      "text/plain": [
       "1"
      ]
     },
     "execution_count": 3,
     "metadata": {},
     "output_type": "execute_result"
    }
   ],
   "source": [
    "mx->random->seed(1);\n",
    "my $filename = '../data/pima-indians-diabetes.csv';\n",
    "my $dataset = sml->load_csv($filename);\n",
    "$dataset = mx->nd->array($dataset);\n",
    "my $split = 0.6;\n",
    "my ($accuracy, $train, $test, $actual, $predicted) = \n",
    "sml-> evaluate_algorithm_train_test_split($dataset, \\&{'sml::zero_rule_algorithm_classification'}, split => $split, metric => 'accuracy');\n",
    "print $accuracy;"
   ]
  },
  {
   "cell_type": "code",
   "execution_count": 4,
   "id": "04600d94",
   "metadata": {},
   "outputs": [
    {
     "name": "stdout",
     "output_type": "stream",
     "text": [
      "A/P<AI::MXNet::NDArray 1 @cpu(0)> <AI::MXNet::NDArray 1 @cpu(0)>\n",
      "A/P [0 1]\n",
      "[\n",
      " [  0 205   0]\n",
      " [  1 103   0]\n",
      "]\n"
     ]
    },
    {
     "data": {
      "text/plain": [
       "1"
      ]
     },
     "execution_count": 4,
     "metadata": {},
     "output_type": "execute_result"
    }
   ],
   "source": [
    "my ($unique, $matrix) = sml->confusion_matrix($actual, $predicted);\n",
    "sml->print_confusion_matrix($unique, $matrix)"
   ]
  },
  {
   "cell_type": "code",
   "execution_count": 13,
   "id": "2e12de61",
   "metadata": {},
   "outputs": [
    {
     "data": {
      "text/plain": [
       "*sml::evaluate_algorithm_cross_validation_split"
      ]
     },
     "execution_count": 13,
     "metadata": {},
     "output_type": "execute_result"
    },
    {
     "ename": "Warning",
     "evalue": "Subroutine evaluate_algorithm_cross_validation_split redefined at reply input line 1.\n\nSubroutine sml::evaluate_algorithm_cross_validation_split redefined at /usr/local/share/perl5/5.34/x86_64-linux-thread-multi/sml.pm line 16.\n",
     "output_type": "error",
     "traceback": [
      "Subroutine evaluate_algorithm_cross_validation_split redefined at reply input line 1.\n\nSubroutine sml::evaluate_algorithm_cross_validation_split redefined at /usr/local/share/perl5/5.34/x86_64-linux-thread-multi/sml.pm line 16.\n"
     ]
    }
   ],
   "source": [
    "sub evaluate_algorithm_cross_validation_split {\n",
    "    my ($self, $dataset, $algorithm, %args) = splice(@_, 0, 3);\n",
    "    $args{n_folds} //= 10;\n",
    "    $args{metric}  //= undef;\n",
    "\n",
    "    my $folds_nd    = sml->cross_validation_split($dataset, n_folds => $args{n_folds});\n",
    "    my $n_folds     = $folds_nd->shape->[0];\n",
    "    my $fold_size   = $folds_nd->shape->[1];\n",
    "    my $n_features  = $folds_nd->shape->[2];\n",
    "\n",
    "    my (@scores, @train_losses, @test_losses, @actuals, @preds);\n",
    "\n",
    "    for my $i (0 .. $n_folds - 1) {\n",
    "        # test_nd y train_nd contiguos\n",
    "        my $test_nd = $folds_nd->slice_axis(axis=>0,begin=>$i,end=>$i+1)\n",
    "                              ->squeeze(axis=>0)->copy;\n",
    "        my @train_parts;\n",
    "        for my $j (0 .. $n_folds - 1) {\n",
    "            next if $j == $i;\n",
    "            push @train_parts,\n",
    "                   $folds_nd->slice_axis(axis=>0,begin=>$j,end=>$j+1)\n",
    "                            ->squeeze(axis=>0)->copy;\n",
    "        }\n",
    "        my $train_nd = mx->nd->concat(@train_parts, { dim=>0 })->copy;\n",
    "\n",
    "        # test_input: todas las columnas menos la última\n",
    "        my $test_input = $n_features>1\n",
    "          ? $test_nd->slice_axis(axis=>1, begin=>0, end=>$n_features-1)\n",
    "          : $test_nd;\n",
    "\n",
    "        # ejecutar\n",
    "        my ($pred_nd, $train_loss, $test_loss) =\n",
    "            $algorithm->('sml', $train_nd, $test_input, %args);\n",
    "\n",
    "        # extraer etiqueta real\n",
    "        my $actual_nd = $test_nd->slice_axis(axis=>1,\n",
    "                             begin=>$n_features-1, end=>$n_features)\n",
    "                                ->copy;\n",
    "\n",
    "        # aplanar si es 2D->[N,1]\n",
    "        if ($actual_nd->ndim==2 && $actual_nd->shape->[1]==1) {\n",
    "            $actual_nd = $actual_nd->reshape([-1]);\n",
    "        }\n",
    "        if ($pred_nd->ndim==2 && ($pred_nd->shape->[1]//0)==1) {\n",
    "            $pred_nd   = $pred_nd  ->reshape([-1]);\n",
    "        }\n",
    "\n",
    "        # calcular métrica, con captura de fallo en aspdl\n",
    "        my $score;\n",
    "        if (defined $args{metric}) {\n",
    "            if ($args{metric}=~ /accuracy/i) {\n",
    "                $score = sml->accuracy_metric($actual_nd, $pred_nd);\n",
    "            }\n",
    "            else {\n",
    "                $score = sml->rmse_metric($actual_nd, $pred_nd);\n",
    "            }\n",
    "        }\n",
    "        else {\n",
    "            my $aref;\n",
    "            eval { $aref = $actual_nd->aspdl->list };\n",
    "            if ($@) {\n",
    "                die <<\"ERR\";\n",
    "*** ASPDL ERROR AT FOLD $i ***\n",
    "folds_nd shape   = [${n_folds}x${fold_size}x${n_features}]\n",
    "train_nd shape   = [@{\\$train_nd->shape}]\n",
    "test_nd shape    = [@{\\$test_nd->shape}]\n",
    "test_input shape = [@{\\$test_input->shape}]\n",
    "raw actual_nd    = [@{\\$actual_nd->shape}] (size=@{\\$actual_nd->size})\n",
    "exception        = $@\n",
    "ERR\n",
    "            }\n",
    "            $score = (grep{/\\\\d+\\\\.\\\\d+/}@{$aref})\n",
    "                   ? sml->rmse_metric($actual_nd, $pred_nd)\n",
    "                   : sml->accuracy_metric($actual_nd, $pred_nd);\n",
    "        }\n",
    "\n",
    "        push @scores,       $score;\n",
    "        push @train_losses, $train_loss;\n",
    "        push @test_losses,  $test_loss;\n",
    "        push @actuals,      $actual_nd;\n",
    "        push @preds,        $pred_nd;\n",
    "    }\n",
    "\n",
    "    my $train_losses_tensor = mx->nd->array(\\@train_losses);\n",
    "    my $test_losses_tensor  = mx->nd->array(\\@test_losses);\n",
    "    my $actuals_tensor      = mx->nd->concat(@actuals, { dim=>0 });\n",
    "    my $preds_tensor        = mx->nd->concat(@preds,   { dim=>0 });\n",
    "\n",
    "    return wantarray\n",
    "      ? (\\@scores, $train_losses_tensor, $test_losses_tensor, $actuals_tensor, $preds_tensor)\n",
    "      : \\@scores;\n",
    "}\n",
    "\n",
    "sml->add_to_class('evaluate_algorithm_cross_validation_split', \\&evaluate_algorithm_cross_validation_split);\n",
    "\n"
   ]
  },
  {
   "cell_type": "code",
   "execution_count": 14,
   "id": "5e99d9f2",
   "metadata": {},
   "outputs": [
    {
     "ename": "Error",
     "evalue": "TBlob.get_with_shape: Check failed: this->shape_.Size() == static_cast<size_t>(shape.Size()) (756 vs. 684) : new and old shape do not match total elements\nStack trace:\n  File \"/opt/softwares/apache-mxnet-src-1.9.1-incubating/include/mxnet/././tensor_blob.h\", line 310\n at /usr/local/share/perl5/5.34/AI/MXNet/Base.pm line 303.\n\tAI::MXNet::Base::check_call(-1) called at /usr/local/share/perl5/5.34/AI/MXNet/NDArray.pm line 329\n\tAI::MXNet::NDArray::aspdl(AI::MXNet::NDArray=HASH(0x563c14f5cbb8)) called at /usr/local/share/perl5/5.34/x86_64-linux-thread-multi/sml.pm line 502\n\tmain::__ANON__(\"sml\", AI::MXNet::NDArray=HASH(0x563c137db588), AI::MXNet::NDArray=HASH(0x563c134556b8), \"metric\", undef, \"n_folds\", 10) called at reply input line 32\n\tmain::evaluate_algorithm_cross_validation_split(undef, undef, undef, \"n_folds\", 5, \"metric\", \"accuracy\") called at reply input line 6\n\tEval::Closure::Sandbox_668::__ANON__() called at /usr/local/share/perl5/5.34/Reply/Plugin/Defaults.pm line 71\n\tReply::Plugin::Defaults::execute(Reply::Plugin::Defaults=HASH(0x563c108a7eb8), CODE(0x563c144355d0), CODE(0x563c1516f2e0)) called at /usr/local/share/perl5/5.34/Reply.pm line 217\n\tReply::_wrapped_plugin(Reply=HASH(0x563c1092db78), ARRAY(0x563c109cc340), \"execute\", CODE(0x563c1516f2e0)) called at /usr/local/share/perl5/5.34/Reply.pm line 215\n\tReply::__ANON__(CODE(0x563c1516f2e0)) called at /usr/local/share/perl5/5.34/Reply/Plugin/IPerl.pm line 28\n\tReply::Plugin::IPerl::__ANON__() called at /usr/share/perl5/Capture/Tiny.pm line 382\n\teval {...} called at /usr/share/perl5/Capture/Tiny.pm line 382\n\tCapture::Tiny::_capture_tee(1, 1, 0, 0, CODE(0x563c142cc738)) called at /usr/local/share/perl5/5.34/Reply/Plugin/IPerl.pm line 29\n\tReply::Plugin::IPerl::execute(Reply::Plugin::IPerl=HASH(0x563c1096f890), CODE(0x563c1545f938), CODE(0x563c1516f2e0)) called at /usr/local/share/perl5/5.34/Reply.pm line 217\n\tReply::_wrapped_plugin(Reply=HASH(0x563c1092db78), \"execute\", CODE(0x563c1516f2e0)) called at /usr/local/share/perl5/5.34/Reply.pm line 174\n\tReply::_eval(Reply=HASH(0x563c1092db78), \"\\x{a}#line 1 \\\"reply input\\\"\\x{a}mx->random->seed(1);\\x{a}\\$filename = '../d\"...) called at /usr/local/share/perl5/5.34/Reply.pm line 66\n\tReply::try {...} () called at /usr/share/perl5/vendor_perl/Try/Tiny.pm line 102\n\teval {...} called at /usr/share/perl5/vendor_perl/Try/Tiny.pm line 93\n\tTry::Tiny::try(CODE(0x563c1542de20), Try::Tiny::Catch=REF(0x563c146ee8a8)) called at /usr/local/share/perl5/5.34/Reply.pm line 71\n\tReply::step(Reply=HASH(0x563c1092db78), \"mx->random->seed(1);\\x{a}\\$filename = '../data/pima-indians-diabet\"..., 0) called at /usr/local/share/perl5/5.34/Devel/IPerl/Kernel/Backend/Reply.pm line 48\n\tDevel::IPerl::Kernel::Backend::Reply::__ANON__() called at /usr/share/perl5/Capture/Tiny.pm line 382\n\teval {...} called at /usr/share/perl5/Capture/Tiny.pm line 382\n\tCapture::Tiny::_capture_tee(1, 1, 0, 0, CODE(0x563c12431448)) called at /usr/local/share/perl5/5.34/Devel/IPerl/Kernel/Backend/Reply.pm line 49\n\tDevel::IPerl::Kernel::Backend::Reply::run_line(Devel::IPerl::Kernel::Backend::Reply=HASH(0x563c0de29280), \"mx->random->seed(1);\\x{a}\\$filename = '../data/pima-indians-diabet\"...) called at /usr/local/share/perl5/5.34/Devel/IPerl/Kernel/Callback/REPL.pm line 42\n\tDevel::IPerl::Kernel::Callback::REPL::execute(Devel::IPerl::Kernel::Callback::REPL=HASH(0x563c0e1af600), Devel::IPerl::Kernel=HASH(0x563c0d1a13a8), Devel::IPerl::Message::ZMQ=HASH(0x563c14425460)) called at (eval 69) line 6\n\tDevel::IPerl::Kernel::Callback::REPL::execute(Devel::IPerl::Kernel::Callback::REPL=HASH(0x563c0e1af600), Devel::IPerl::Kernel=HASH(0x563c0d1a13a8), Devel::IPerl::Message::ZMQ=HASH(0x563c14425460)) called at /usr/local/share/perl5/5.34/Devel/IPerl/Kernel/Callback/REPL.pm line 156\n\tDevel::IPerl::Kernel::Callback::REPL::msg_execute_request(Devel::IPerl::Kernel::Callback::REPL=HASH(0x563c0e1af600), Devel::IPerl::Kernel=HASH(0x563c0d1a13a8), Devel::IPerl::Message::ZMQ=HASH(0x563c14425460), ZMQ::FFI::ZMQ4_1::Socket=HASH(0x563c11094760)) called at /usr/local/share/perl5/5.34/Devel/IPerl/Kernel.pm line 236\n\tDevel::IPerl::Kernel::route_message(Devel::IPerl::Kernel=HASH(0x563c0d1a13a8), ARRAY(0x563c110b9a28), ZMQ::FFI::ZMQ4_1::Socket=HASH(0x563c11094760)) called at /usr/local/share/perl5/5.34/Devel/IPerl/Kernel.pm line 209\n\tDevel::IPerl::Kernel::__ANON__(Net::Async::ZMQ::Socket=HASH(0x563c110c6578)) called at /usr/local/share/perl5/5.34/IO/Async/Loop/Poll.pm line 171\n\tIO::Async::Loop::Poll::post_poll(IO::Async::Loop::Poll=HASH(0x563c10f26f78)) called at /usr/local/share/perl5/5.34/IO/Async/Loop/Poll.pm line 291\n\tIO::Async::Loop::Poll::loop_once(IO::Async::Loop::Poll=HASH(0x563c10f26f78), undef) called at /usr/local/share/perl5/5.34/IO/Async/Loop.pm line 537\n\tIO::Async::Loop::run(IO::Async::Loop::Poll=HASH(0x563c10f26f78)) called at /usr/local/share/perl5/5.34/IO/Async/Loop.pm line 574\n\tIO::Async::Loop::loop_forever(IO::Async::Loop::Poll=HASH(0x563c10f26f78)) called at /usr/local/share/perl5/5.34/Devel/IPerl/Kernel.pm line 219\n\tDevel::IPerl::Kernel::run(Devel::IPerl::Kernel=HASH(0x563c0d1a13a8)) called at /usr/local/share/perl5/5.34/Devel/IPerl.pm line 14\n\tDevel::IPerl::main() called at -e line 1\n",
     "output_type": "error",
     "traceback": [
      "TBlob.get_with_shape: Check failed: this->shape_.Size() == static_cast<size_t>(shape.Size()) (756 vs. 684) : new and old shape do not match total elements\nStack trace:\n  File \"/opt/softwares/apache-mxnet-src-1.9.1-incubating/include/mxnet/././tensor_blob.h\", line 310\n at /usr/local/share/perl5/5.34/AI/MXNet/Base.pm line 303.\n\tAI::MXNet::Base::check_call(-1) called at /usr/local/share/perl5/5.34/AI/MXNet/NDArray.pm line 329\n\tAI::MXNet::NDArray::aspdl(AI::MXNet::NDArray=HASH(0x563c14f5cbb8)) called at /usr/local/share/perl5/5.34/x86_64-linux-thread-multi/sml.pm line 502\n\tmain::__ANON__(\"sml\", AI::MXNet::NDArray=HASH(0x563c137db588), AI::MXNet::NDArray=HASH(0x563c134556b8), \"metric\", undef, \"n_folds\", 10) called at reply input line 32\n\tmain::evaluate_algorithm_cross_validation_split(undef, undef, undef, \"n_folds\", 5, \"metric\", \"accuracy\") called at reply input line 6\n\tEval::Closure::Sandbox_668::__ANON__() called at /usr/local/share/perl5/5.34/Reply/Plugin/Defaults.pm line 71\n\tReply::Plugin::Defaults::execute(Reply::Plugin::Defaults=HASH(0x563c108a7eb8), CODE(0x563c144355d0), CODE(0x563c1516f2e0)) called at /usr/local/share/perl5/5.34/Reply.pm line 217\n\tReply::_wrapped_plugin(Reply=HASH(0x563c1092db78), ARRAY(0x563c109cc340), \"execute\", CODE(0x563c1516f2e0)) called at /usr/local/share/perl5/5.34/Reply.pm line 215\n\tReply::__ANON__(CODE(0x563c1516f2e0)) called at /usr/local/share/perl5/5.34/Reply/Plugin/IPerl.pm line 28\n\tReply::Plugin::IPerl::__ANON__() called at /usr/share/perl5/Capture/Tiny.pm line 382\n\teval {...} called at /usr/share/perl5/Capture/Tiny.pm line 382\n\tCapture::Tiny::_capture_tee(1, 1, 0, 0, CODE(0x563c142cc738)) called at /usr/local/share/perl5/5.34/Reply/Plugin/IPerl.pm line 29\n\tReply::Plugin::IPerl::execute(Reply::Plugin::IPerl=HASH(0x563c1096f890), CODE(0x563c1545f938), CODE(0x563c1516f2e0)) called at /usr/local/share/perl5/5.34/Reply.pm line 217\n\tReply::_wrapped_plugin(Reply=HASH(0x563c1092db78), \"execute\", CODE(0x563c1516f2e0)) called at /usr/local/share/perl5/5.34/Reply.pm line 174\n\tReply::_eval(Reply=HASH(0x563c1092db78), \"\\x{a}#line 1 \\\"reply input\\\"\\x{a}mx->random->seed(1);\\x{a}\\$filename = '../d\"...) called at /usr/local/share/perl5/5.34/Reply.pm line 66\n\tReply::try {...} () called at /usr/share/perl5/vendor_perl/Try/Tiny.pm line 102\n\teval {...} called at /usr/share/perl5/vendor_perl/Try/Tiny.pm line 93\n\tTry::Tiny::try(CODE(0x563c1542de20), Try::Tiny::Catch=REF(0x563c146ee8a8)) called at /usr/local/share/perl5/5.34/Reply.pm line 71\n\tReply::step(Reply=HASH(0x563c1092db78), \"mx->random->seed(1);\\x{a}\\$filename = '../data/pima-indians-diabet\"..., 0) called at /usr/local/share/perl5/5.34/Devel/IPerl/Kernel/Backend/Reply.pm line 48\n\tDevel::IPerl::Kernel::Backend::Reply::__ANON__() called at /usr/share/perl5/Capture/Tiny.pm line 382\n\teval {...} called at /usr/share/perl5/Capture/Tiny.pm line 382\n\tCapture::Tiny::_capture_tee(1, 1, 0, 0, CODE(0x563c12431448)) called at /usr/local/share/perl5/5.34/Devel/IPerl/Kernel/Backend/Reply.pm line 49\n\tDevel::IPerl::Kernel::Backend::Reply::run_line(Devel::IPerl::Kernel::Backend::Reply=HASH(0x563c0de29280), \"mx->random->seed(1);\\x{a}\\$filename = '../data/pima-indians-diabet\"...) called at /usr/local/share/perl5/5.34/Devel/IPerl/Kernel/Callback/REPL.pm line 42\n\tDevel::IPerl::Kernel::Callback::REPL::execute(Devel::IPerl::Kernel::Callback::REPL=HASH(0x563c0e1af600), Devel::IPerl::Kernel=HASH(0x563c0d1a13a8), Devel::IPerl::Message::ZMQ=HASH(0x563c14425460)) called at (eval 69) line 6\n\tDevel::IPerl::Kernel::Callback::REPL::execute(Devel::IPerl::Kernel::Callback::REPL=HASH(0x563c0e1af600), Devel::IPerl::Kernel=HASH(0x563c0d1a13a8), Devel::IPerl::Message::ZMQ=HASH(0x563c14425460)) called at /usr/local/share/perl5/5.34/Devel/IPerl/Kernel/Callback/REPL.pm line 156\n\tDevel::IPerl::Kernel::Callback::REPL::msg_execute_request(Devel::IPerl::Kernel::Callback::REPL=HASH(0x563c0e1af600), Devel::IPerl::Kernel=HASH(0x563c0d1a13a8), Devel::IPerl::Message::ZMQ=HASH(0x563c14425460), ZMQ::FFI::ZMQ4_1::Socket=HASH(0x563c11094760)) called at /usr/local/share/perl5/5.34/Devel/IPerl/Kernel.pm line 236\n\tDevel::IPerl::Kernel::route_message(Devel::IPerl::Kernel=HASH(0x563c0d1a13a8), ARRAY(0x563c110b9a28), ZMQ::FFI::ZMQ4_1::Socket=HASH(0x563c11094760)) called at /usr/local/share/perl5/5.34/Devel/IPerl/Kernel.pm line 209\n\tDevel::IPerl::Kernel::__ANON__(Net::Async::ZMQ::Socket=HASH(0x563c110c6578)) called at /usr/local/share/perl5/5.34/IO/Async/Loop/Poll.pm line 171\n\tIO::Async::Loop::Poll::post_poll(IO::Async::Loop::Poll=HASH(0x563c10f26f78)) called at /usr/local/share/perl5/5.34/IO/Async/Loop/Poll.pm line 291\n\tIO::Async::Loop::Poll::loop_once(IO::Async::Loop::Poll=HASH(0x563c10f26f78), undef) called at /usr/local/share/perl5/5.34/IO/Async/Loop.pm line 537\n\tIO::Async::Loop::run(IO::Async::Loop::Poll=HASH(0x563c10f26f78)) called at /usr/local/share/perl5/5.34/IO/Async/Loop.pm line 574\n\tIO::Async::Loop::loop_forever(IO::Async::Loop::Poll=HASH(0x563c10f26f78)) called at /usr/local/share/perl5/5.34/Devel/IPerl/Kernel.pm line 219\n\tDevel::IPerl::Kernel::run(Devel::IPerl::Kernel=HASH(0x563c0d1a13a8)) called at /usr/local/share/perl5/5.34/Devel/IPerl.pm line 14\n\tDevel::IPerl::main() called at -e line 1\n"
     ]
    }
   ],
   "source": [
    "mx->random->seed(1);\n",
    "$filename = '../data/pima-indians-diabetes.csv';\n",
    "$dataset = sml->load_csv($filename);\n",
    "$dataset = mx->nd->array($dataset);\n",
    "my $n_fold = 5;\n",
    "my ($scores, $train_losses, $test_losses, $actuals, $predictions) = sml->evaluate_algorithm_cross_validation_split(\n",
    "    $dataset,\n",
    "    \\&sml::zero_rule_algorithm_classification,\n",
    "    n_folds => $n_fold,\n",
    "    metric  => 'accuracy');"
   ]
  },
  {
   "cell_type": "markdown",
   "id": "60aba15d",
   "metadata": {},
   "source": []
  },
  {
   "cell_type": "code",
   "execution_count": null,
   "id": "079d3a4a",
   "metadata": {},
   "outputs": [],
   "source": []
  }
 ],
 "metadata": {
  "kernelspec": {
   "display_name": "IPerl 0.012",
   "language": "perl",
   "name": "iperl"
  },
  "language_info": {
   "file_extension": ".pl",
   "mimetype": "text/x-perl",
   "name": "perl",
   "version": "5.34.1"
  }
 },
 "nbformat": 4,
 "nbformat_minor": 5
}
